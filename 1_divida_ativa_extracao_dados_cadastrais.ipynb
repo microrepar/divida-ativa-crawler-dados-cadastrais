{
 "cells": [
  {
   "cell_type": "markdown",
   "metadata": {},
   "source": []
  },
  {
   "cell_type": "code",
   "execution_count": 17,
   "metadata": {},
   "outputs": [],
   "source": [
    "import time\n",
    "from pathlib import Path\n",
    "\n",
    "import pandas as pd\n",
    "from selenium.webdriver.common.by import By\n",
    "\n",
    "from config import Config\n",
    "from divida_ativa_page import get_divida_ativa_driver, get_element_by_xpath"
   ]
  },
  {
   "cell_type": "markdown",
   "metadata": {},
   "source": [
    "### File Locations"
   ]
  },
  {
   "cell_type": "code",
   "execution_count": 18,
   "metadata": {},
   "outputs": [],
   "source": [
    "in_file_estoque = Path.cwd() / \"data\" / \"raw\" / \"2024-01-11 Lista estoque dívida acima de 50000.xlsx\"\n",
    "in_file_parcelas = Path.cwd() / \"data\" / \"raw\" / \"2024-01-11 Lista de parcelas acima de 500 a partir de 01-11-2023.xlsx\"\n",
    "in_file_memo = Path.cwd() / \"data\" / \"raw\" / \"memo.csv\"\n",
    "summary_file_imobiliario = Path.cwd() / \"data\" / \"processed\" / f\"dados_cadastrais_mobiliario.csv\"\n",
    "summary_file_mobiliario = Path.cwd() / \"data\" / \"processed\" / f\"dados_cadastrais_imobiliario.csv\""
   ]
  },
  {
   "cell_type": "code",
   "execution_count": 19,
   "metadata": {},
   "outputs": [],
   "source": [
    "dtypes={\n",
    "    'IdCadastro': 'string'\n",
    "}\n",
    "\n",
    "df_estoque = pd.read_excel(in_file_estoque, dtype=dtypes)\n",
    "df_parcelas = pd.read_excel(in_file_parcelas, dtype=dtypes)\n"
   ]
  },
  {
   "cell_type": "markdown",
   "metadata": {},
   "source": [
    "### Column Cleanup\n",
    "\n",
    "- Remove all leading and trailing spaces\n",
    "- Rename the columns for consistency."
   ]
  },
  {
   "cell_type": "code",
   "execution_count": 20,
   "metadata": {},
   "outputs": [],
   "source": [
    "# https://stackoverflow.com/questions/30763351/removing-space-in-dataframe-python\n",
    "df_estoque.columns = [x.strip() for x in df_estoque.columns]\n",
    "df_parcelas.columns = [x.strip() for x in df_parcelas.columns]"
   ]
  },
  {
   "cell_type": "code",
   "execution_count": 21,
   "metadata": {},
   "outputs": [
    {
     "data": {
      "text/plain": [
       "{'Nome da Origem': '',\n",
       " 'Tipo': '',\n",
       " 'Cadastro': '',\n",
       " 'CD': '',\n",
       " 'Exercício': '',\n",
       " 'Situação': '',\n",
       " 'Origem': '',\n",
       " 'Lancado': '',\n",
       " 'Multa': '',\n",
       " 'Juros': '',\n",
       " 'Correção': '',\n",
       " 'Subtotal': '',\n",
       " 'Lançamento': '',\n",
       " 'Inscrição': '',\n",
       " 'Livro': '',\n",
       " 'Folha': '',\n",
       " 'Ano_lancamento': '',\n",
       " 'Ano_inscricao': '',\n",
       " 'IdCadastro': '',\n",
       " 'Situacao_Tratada': '',\n",
       " 'Exercicio_Tratado': '',\n",
       " 'Data da Origem': '',\n",
       " 'tamanho_divida': ''}"
      ]
     },
     "execution_count": 21,
     "metadata": {},
     "output_type": "execute_result"
    }
   ],
   "source": [
    "{col: '' for col in df_estoque.columns}"
   ]
  },
  {
   "cell_type": "code",
   "execution_count": 22,
   "metadata": {},
   "outputs": [
    {
     "data": {
      "text/plain": [
       "{'IdAcordo': '',\n",
       " 'NumParcela': '',\n",
       " 'DataAcordo': '',\n",
       " 'Vencimento': '',\n",
       " 'IdParcela': '',\n",
       " 'ValorParcela': '',\n",
       " 'mes': '',\n",
       " 'nome_mes': '',\n",
       " 'trimes': '',\n",
       " 'ano': '',\n",
       " 'Situacao Pagamento': '',\n",
       " 'IdCadastro': '',\n",
       " 'Status_revi': '',\n",
       " 'ValorPago': '',\n",
       " 'ValorParcelaTratado': '',\n",
       " 'Situacao Acordo': ''}"
      ]
     },
     "execution_count": 22,
     "metadata": {},
     "output_type": "execute_result"
    }
   ],
   "source": [
    "{col: '' for col in df_parcelas.columns}"
   ]
  },
  {
   "cell_type": "markdown",
   "metadata": {},
   "source": [
    "### Clean Up Data Types"
   ]
  },
  {
   "cell_type": "code",
   "execution_count": null,
   "metadata": {},
   "outputs": [],
   "source": [
    "print(df_estoque.dtypes)\n",
    "print(df_parcelas.dtypes)"
   ]
  },
  {
   "cell_type": "markdown",
   "metadata": {},
   "source": [
    "### Data Manipulation"
   ]
  },
  {
   "cell_type": "code",
   "execution_count": null,
   "metadata": {},
   "outputs": [],
   "source": [
    "cols_to_rename = {'col1': 'New_Name'}\n",
    "df_estoque.rename(columns=cols_to_rename, inplace=True)\n",
    "df_parcelas.rename(columns=cols_to_rename, inplace=True)"
   ]
  },
  {
   "cell_type": "code",
   "execution_count": 25,
   "metadata": {},
   "outputs": [],
   "source": [
    "driver = get_divida_ativa_driver()\n",
    "\n"
   ]
  },
  {
   "cell_type": "code",
   "execution_count": null,
   "metadata": {},
   "outputs": [],
   "source": [
    "driver.get(Config.URL_IMOB)"
   ]
  },
  {
   "cell_type": "code",
   "execution_count": null,
   "metadata": {},
   "outputs": [],
   "source": [
    "campo_inscricao = get_element_by_xpath(driver, '//input[@name=\"ic\"]')\n",
    "campo_inscricao.clear()\n",
    "campo_inscricao.send_keys('70945')\n"
   ]
  },
  {
   "cell_type": "code",
   "execution_count": null,
   "metadata": {},
   "outputs": [],
   "source": [
    "campo_digito = get_element_by_xpath(driver, '//input[@name=\"digito\"]')\n",
    "campo_digito.clear()\n",
    "campo_digito.send_keys('0')"
   ]
  },
  {
   "cell_type": "code",
   "execution_count": null,
   "metadata": {},
   "outputs": [],
   "source": [
    "campo_documento = get_element_by_xpath(driver, '//input[@name=\"docto\"]')\n",
    "campo_documento.clear()\n",
    "campo_documento.send_keys('0')"
   ]
  },
  {
   "cell_type": "code",
   "execution_count": null,
   "metadata": {},
   "outputs": [],
   "source": [
    "btn_continuar = get_element_by_xpath(driver, '//input[@type=\"image\"]')\n",
    "btn_continuar.click()"
   ]
  },
  {
   "cell_type": "code",
   "execution_count": null,
   "metadata": {},
   "outputs": [],
   "source": [
    "btn_consultar_dados = get_element_by_xpath(driver, '//img[@src=\"/ps_image/btw.php?cont=Consultar D.A.\"]')\n",
    "btn_consultar_dados.click()"
   ]
  },
  {
   "cell_type": "code",
   "execution_count": null,
   "metadata": {},
   "outputs": [],
   "source": [
    "btn_dados_cadastrais = get_element_by_xpath(driver, '//input[@value=\"Dados Cadastrais\"]')\n",
    "btn_dados_cadastrais.click()"
   ]
  },
  {
   "cell_type": "code",
   "execution_count": null,
   "metadata": {},
   "outputs": [],
   "source": [
    "def get_dados_cadastrais_imobiliario(driver, tipo, inscricao):\n",
    "    url_imobiliario = Config.URL_IMOB\n",
    "    \n",
    "    \n",
    "    for _ in range(2):\n",
    "        driver.get(url_imobiliario)\n",
    "        \n",
    "        campo_inscricao = get_element_by_xpath(driver, '//input[@name=\"ic\"]')\n",
    "        campo_inscricao.clear()\n",
    "        campo_inscricao.send_keys(inscricao)\n",
    "\n",
    "        campo_digito = get_element_by_xpath(driver, '//input[@name=\"digito\"]')\n",
    "        campo_digito.clear()\n",
    "        campo_digito.send_keys('0')\n",
    "\n",
    "        campo_documento = get_element_by_xpath(driver, '//input[@name=\"docto\"]')\n",
    "        campo_documento.clear()\n",
    "        campo_documento.send_keys('0')\n",
    "\n",
    "        btn_continuar = get_element_by_xpath(driver, '//input[@type=\"image\"]')\n",
    "        btn_continuar.click()\n",
    "\n",
    "        btn_consultar_dados = get_element_by_xpath(driver, '//img[@src=\"/ps_image/btw.php?cont=Consultar D.A.\"]', max_wait=3)\n",
    "        if btn_consultar_dados is None:\n",
    "            continue            \n",
    "        btn_consultar_dados.click()\n",
    "\n",
    "        btn_dados_cadastrais = get_element_by_xpath(driver, '//input[@value=\"Dados Cadastrais\"]')\n",
    "        \n",
    "        if btn_dados_cadastrais is not None:\n",
    "            btn_dados_cadastrais.click()\n",
    "            break\n",
    "\n",
    "        inscricao = int(inscricao)\n",
    "        \n",
    "    else:\n",
    "        return None\n",
    "\n",
    "    dado_inscricao = None\n",
    "    dado_responsavel = None\n",
    "    dado_endereco_completo = None\n",
    "    dado_cpf_cnpj = None\n",
    "    dado_local_imovel = None\n",
    "    dado_endereco_correio = None\n",
    "\n",
    "    get_element_by_xpath(driver, '//input[@value=\"Dados Cadastrais\"]//ancestor::table[@class=\"titulo\"]//tr//')\n",
    "    \n",
    "    table_header = driver.find_elements(By.XPATH, '//input[@value=\"Dados Cadastrais\"]//ancestor::table[@class=\"titulo\"]//td')\n",
    "    dado_inscricao, dado_responsavel = [d.text for d in table_header][0].split(' - ')\n",
    "\n",
    "    table_body = driver.find_elements(By.XPATH, '//input[@value=\"Dados Cadastrais\"]//ancestor::table[@class=\"titulo\"]//following::table[1]//tr')\n",
    "    for i, row in enumerate(table_body):\n",
    "        dados = row.find_elements(By.TAG_NAME, 'td')\n",
    "        if i == 0:\n",
    "            _, dado_endereco_completo, _, dado_cpf_cnpj = [d.text for d in dados]\n",
    "        if i == 1:\n",
    "            _, dado_local_imovel = [d.text for d in dados]\n",
    "            \n",
    "        if i == 2:\n",
    "            dado_local_imovel += f' - {row.text}'\n",
    "\n",
    "        if i == 3:\n",
    "            _, dado_endereco_correio = [d.text for d in dados]\n",
    "\n",
    "        if i == 4:\n",
    "            dado_endereco_correio += f' - {row.text}'\n",
    "\n",
    "    \n",
    "    return dado_inscricao, dado_responsavel, dado_endereco_completo, dado_cpf_cnpj, dado_local_imovel, dado_endereco_correio"
   ]
  },
  {
   "cell_type": "code",
   "execution_count": null,
   "metadata": {},
   "outputs": [],
   "source": [
    "dado_inscricao = None\n",
    "dado_responsavel = None \n",
    "get_element_by_xpath(driver, '//input[@value=\"Dados Cadastrais\"]//ancestor::table[@class=\"titulo\"]//tr//')\n",
    "table_header = driver.find_elements(By.XPATH, '//input[@value=\"Dados Cadastrais\"]//ancestor::table[@class=\"titulo\"]//td')\n",
    "dado_inscricao, dado_responsavel = [d.text for d in table_header][0].split(' - ')\n",
    "\n",
    "print(dado_inscricao,':', dado_responsavel)"
   ]
  },
  {
   "cell_type": "code",
   "execution_count": null,
   "metadata": {},
   "outputs": [],
   "source": [
    "get_element_by_xpath(driver, '//input[@value=\"Dados Cadastrais\"]//ancestor::table[@class=\"titulo\"]//tr//')\n",
    "table_body = driver.find_elements(By.XPATH, '//input[@value=\"Dados Cadastrais\"]//ancestor::table[@class=\"titulo\"]//following::table[1]//tr')\n",
    "\n",
    "dado_endereco_completo = None\n",
    "dado_cpf_cnpj = None\n",
    "dado_local_imovel = None\n",
    "dado_endereco_correio = None\n",
    "\n",
    "for i, row in enumerate(table_body):\n",
    "    dados = row.find_elements(By.TAG_NAME, 'td')\n",
    "    if i == 0:\n",
    "        _, dado_endereco_completo, _, dado_cpf_cnpj = [d.text for d in dados]\n",
    "    if i == 1:\n",
    "        _, dado_local_imovel = [d.text for d in dados]\n",
    "        \n",
    "    if i == 2:\n",
    "        dado_local_imovel += f' - {row.text}'\n",
    "\n",
    "    if i == 3:\n",
    "        _, dado_endereco_correio = [d.text for d in dados]\n",
    "\n",
    "    if i == 4:\n",
    "        dado_endereco_correio += f' - {row.text}'\n",
    "\n",
    "        \n",
    "        print(dado_endereco_correio)\n",
    "# print('dado_cpf_cnpj:', dado_cpf_cnpj)\n",
    "# print('dado_endereco_completo:', dado_endereco_completo)\n"
   ]
  },
  {
   "cell_type": "code",
   "execution_count": null,
   "metadata": {},
   "outputs": [],
   "source": [
    "df_imobiliario = pd.DataFrame(columns=['inscricao', 'responsavel', 'endereco_completo', \n",
    "                                      'cpf_cnpj', 'local_imovel', 'endereco_correio'])\n",
    "\n",
    "df_mobiliario = pd.DataFrame(columns=['inscricao', 'razao_social', 'endereco', 'documento', \n",
    "                                      'nome_fantasia', 'estabelecimento', 'tipo_tributo', \n",
    "                                      'nome_socio', 'cpf_socio', 'rg_socio', 'data_socio'])\n",
    "\n",
    "for cadastro in df_parcelas['IdCadastro']:\n",
    "    tipo, inscricao = cadastro[:-11].replace('0', ''), cadastro[-11:]\n",
    "\n",
    "    if tipo == '1':\n",
    "        dados_cadastrais = get_dados_cadastrais_imobiliario(driver, tipo, (inscricao))\n",
    "        if dados_cadastrais is None:\n",
    "            continue\n",
    "        df_imobiliario.loc[len(df_imobiliario)] = dados_cadastrais\n",
    "\n",
    "    if tipo == '2':\n",
    "        inscricao = inscricao[-5:]\n",
    "        dados_cadastrais_list = get_dados_cadastrais_mobiliario(driver, tipo, inscricao)\n",
    "        if dados_cadastrais is None:\n",
    "            continue\n",
    "        for dados_cadastrais in dados_cadastrais_list:\n",
    "            df_mobiliario.loc[len(df_mobiliario)] = dados_cadastrais\n",
    "\n",
    "\n",
    "\n",
    "for cadastro in df_estoque['IdCadastro']:\n",
    "    tipo, inscricao = cadastro[:-11].replace('0', ''), cadastro[-11:]\n",
    "    if tipo == '2':\n",
    "        inscricao = inscricao[-5:]\n",
    "    print(tipo, inscricao)\n",
    "\n",
    "df_imobiliario"
   ]
  },
  {
   "cell_type": "code",
   "execution_count": null,
   "metadata": {},
   "outputs": [],
   "source": [
    "df_imobiliario"
   ]
  },
  {
   "cell_type": "code",
   "execution_count": 37,
   "metadata": {},
   "outputs": [],
   "source": [
    "driver.get(Config.URL_MOB)"
   ]
  },
  {
   "cell_type": "code",
   "execution_count": 39,
   "metadata": {},
   "outputs": [],
   "source": [
    "campo_cadastro = get_element_by_xpath(driver, '//input[@name=\"cadm\"]')\n",
    "campo_cadastro.clear()\n",
    "# campo_cadastro.send_keys('12902')\n",
    "campo_cadastro.send_keys('70945')"
   ]
  },
  {
   "cell_type": "code",
   "execution_count": 40,
   "metadata": {},
   "outputs": [],
   "source": [
    "campo_digito = get_element_by_xpath(driver, '//input[@name=\"digito\"]')\n",
    "campo_digito.clear()\n",
    "campo_digito.send_keys('0')"
   ]
  },
  {
   "cell_type": "code",
   "execution_count": 41,
   "metadata": {},
   "outputs": [],
   "source": [
    "campo_documento = get_element_by_xpath(driver, '//input[@name=\"docto\"]')\n",
    "campo_documento.clear()\n",
    "campo_documento.send_keys('0')"
   ]
  },
  {
   "cell_type": "code",
   "execution_count": 42,
   "metadata": {},
   "outputs": [],
   "source": [
    "btn_continuar = get_element_by_xpath(driver, '//input[@type=\"image\"]')\n",
    "btn_continuar.click()"
   ]
  },
  {
   "cell_type": "code",
   "execution_count": 43,
   "metadata": {},
   "outputs": [],
   "source": [
    "btn_consultar_dados = get_element_by_xpath(driver, '//img[@src=\"/ps_image/btw.php?cont=Consultar D.A.\"]')\n",
    "btn_consultar_dados.click()"
   ]
  },
  {
   "cell_type": "code",
   "execution_count": 44,
   "metadata": {},
   "outputs": [],
   "source": [
    "btn_dados_cadastrais = get_element_by_xpath(driver, '//input[@value=\"Dados Cadastrais\"]')\n",
    "btn_dados_cadastrais.click()"
   ]
  },
  {
   "cell_type": "code",
   "execution_count": 45,
   "metadata": {},
   "outputs": [],
   "source": [
    "get_element_by_xpath(driver, '//input[@value=\"Dados Cadastrais\"]//ancestor::table[@class=\"titulo\"]//tr//')\n",
    "\n",
    "dado_inscricao = None\n",
    "dado_razao_social = None\n",
    "table_header = driver.find_elements(By.XPATH, '//input[@value=\"Dados Cadastrais\"]//ancestor::table[@class=\"titulo\"]//td')\n",
    "dado_inscricao, dado_razao_social = [d.text.strip() for d in table_header][0].split(' - ')"
   ]
  },
  {
   "cell_type": "code",
   "execution_count": 46,
   "metadata": {},
   "outputs": [
    {
     "data": {
      "text/plain": [
       "('Endereço: AV LOURENCO DE SOUZA FRANCO - MOGI DAS CRUZES SP 08750-560',\n",
       " '16.949.657/0001-30',\n",
       " '',\n",
       " ' 4321500 - INSTALACAO E MANUTENCAO ELETRI',\n",
       " ' 3 - Tributo nao cadastrado')"
      ]
     },
     "execution_count": 46,
     "metadata": {},
     "output_type": "execute_result"
    }
   ],
   "source": [
    "dado_endereco = None\n",
    "dado_documento = None\n",
    "dado_nome_fantasia = None\n",
    "dado_estabelecimento = None\n",
    "dado_tipo_tributo = None\n",
    "\n",
    "table_body = driver.find_elements(By.XPATH, '//input[@value=\"Dados Cadastrais\"]//ancestor::table[@class=\"titulo\"]//following::table[1]//tr')\n",
    "dado_endereco, dado_documento = ' '.join([d.text for d in table_body][0].split()[:-2]), [d.text for d in table_body][0].split()[-1]\n",
    "dado_endereco += f' - {[d.text for d in table_body][1]}'\n",
    "dado_nome_fantasia = [d.text for d in table_body][2].split(':')[-1]\n",
    "dado_estabelecimento = [d.text for d in table_body][3].split(':')[-1]\n",
    "dado_tipo_tributo = [d.text for d in table_body][4].split(':')[-1]\n",
    "\n",
    "dado_endereco, dado_documento, dado_nome_fantasia, dado_estabelecimento, dado_tipo_tributo"
   ]
  },
  {
   "cell_type": "code",
   "execution_count": 35,
   "metadata": {},
   "outputs": [
    {
     "name": "stdout",
     "output_type": "stream",
     "text": [
      "['1999', 'Tx.Licenca', '35', '000', '', '005.212/2003', 'Pago', '']\n",
      "['2000', 'Tx.Licenca', '35', '000', '', '005.212/2003', 'Pago', '']\n",
      "['2001', 'Tx.Licenca', '35', '000', '', '005.212/2003', 'Pago', '']\n",
      "['2002', 'Tx.Licenca', '35', '000', '', '005.212/2003', 'Parcelamento:027.121/2023', '']\n",
      "['2003', 'Tx.Licenca', '35', '000', '', '005.770/2007', 'Parcelamento:027.121/2023', '']\n",
      "['2004', 'Tx.Licenca', '35', '000', '', '005.770/2007', 'Parcelamento:027.121/2023', '']\n",
      "['2005', 'Tx.Licenca', '35', '000', '', '005.770/2007', 'Parcelamento:027.121/2023', '']\n",
      "['2006', 'Tx.Licenca', '35', '000', '', '005.770/2007', 'Parcelamento:027.121/2023', '']\n",
      "['2007', 'Tx.Licenca', '35', '000', '', '001.276/2011', 'Parcelamento:027.121/2023', '']\n",
      "['2008', 'Tx.Licenca', '35', '000', '', '001.276/2011', 'Parcelamento:027.121/2023', '']\n",
      "['2009', 'Tx.Licenca', '35', '000', '', '001.276/2011', 'Parcelamento:027.121/2023', '']\n",
      "['2010', 'Tx.Licenca', '35', '000', '', '001.276/2011', 'Parcelamento:027.121/2023', '']\n",
      "['2011', 'Tx.Licenca', '35', '000', '', '500.103/2013', 'Parcelamento:027.121/2023', '']\n",
      "['2012', 'Tx.Licenca', '35', '000', '', '500.103/2013', 'Parcelamento:027.121/2023', '']\n",
      "['2013', 'Tx.Licenca', '35', '000', '', '510.516/2016', 'Parcelamento:027.121/2023', '']\n",
      "['2014', 'Tx.Licenca', '35', '000', '', '510.516/2016', 'Parcelamento:027.121/2023', '']\n",
      "['2015', 'Tx.Licenca', '35', '000', '', '510.516/2016', 'Parcelamento:027.121/2023', '']\n",
      "['2016', 'Tx.Licenca', '35', '000', '', '500.169/2020', 'Parcelamento:027.121/2023', '']\n",
      "['2017', 'Tx.Licenca', '35', '000', '', '500.169/2020', 'Parcelamento:027.121/2023', '']\n",
      "['2018', 'Tx.Licenca', '35', '000', '', '500.169/2020', 'Parcelamento:027.121/2023', '']\n",
      "['2019', 'Tx.Licenca', '35', '000', '', '500.169/2020', 'Parcelamento:027.121/2023', '']\n",
      "['2020', 'Tx.Licenca', '35', '000', '', '505.534/2022', 'Parcelamento:027.121/2023', '']\n",
      "['2021', 'Tx.Licenca', '35', '000', '', '505.534/2022', 'Parcelamento:027.121/2023', '']\n",
      "['2022', 'Tx.Licenca', '35', '000', '', '**********', 'Parcelamento:027.121/2023', '']\n",
      "['2023', 'Tx.Licenca', '35', '000', '', '**********', 'Aberto', '1.275,22']\n"
     ]
    }
   ],
   "source": [
    "table_body = driver.find_elements(By.XPATH, '//input[@value=\"Dados Cadastrais\"]//ancestor::table[@class=\"titulo\"]//following::table[2]//tr')\n",
    "socio_list = []\n",
    "for i, row in enumerate(table_body):\n",
    "    dados = row.find_elements(By.TAG_NAME, 'td')\n",
    "    if i == 0:\n",
    "        if 'C.P.F' not in row.text.upper():\n",
    "            socio = [None, None, None, None]\n",
    "            socio_list.append(socio)\n",
    "            break\n",
    "        continue\n",
    "    socio = [d.text for d in dados]\n",
    "    socio_list.append(socio)\n",
    "\n",
    "for s in socio_list:\n",
    "    print(s)"
   ]
  },
  {
   "cell_type": "code",
   "execution_count": null,
   "metadata": {},
   "outputs": [],
   "source": [
    "def get_dados_cadastrais_mobiliario(driver, tipo, inscricao):\n",
    "    url_mobiliario = Config.URL_MOB\n",
    "    driver.get(url_mobiliario)\n",
    "\n",
    "    campo_cadastro = get_element_by_xpath(driver, '//input[@name=\"cadm\"]')\n",
    "    campo_cadastro.clear()\n",
    "    campo_cadastro.send_keys('inscricao')\n",
    "\n",
    "    campo_digito = get_element_by_xpath(driver, '//input[@name=\"digito\"]')\n",
    "    campo_digito.clear()\n",
    "    campo_digito.send_keys('0')\n",
    "\n",
    "    campo_documento = get_element_by_xpath(driver, '//input[@name=\"docto\"]')\n",
    "    campo_documento.clear()\n",
    "    campo_documento.send_keys('0')\n",
    "\n",
    "    btn_continuar = get_element_by_xpath(driver, '//input[@type=\"image\"]')\n",
    "    btn_continuar.click()\n",
    "\n",
    "    btn_consultar_dados = get_element_by_xpath(driver, '//img[@src=\"/ps_image/btw.php?cont=Consultar D.A.\"]')\n",
    "    if btn_consultar_dados is None:\n",
    "        return None\n",
    "    btn_consultar_dados.click()\n",
    "\n",
    "    btn_dados_cadastrais = get_element_by_xpath(driver, '//input[@value=\"Dados Cadastrais\"]')\n",
    "    btn_dados_cadastrais.click()\n",
    "\n",
    "    dado_inscricao = None\n",
    "    dado_razao_social = None\n",
    "    dado_endereco = None\n",
    "    dado_documento = None\n",
    "    dado_nome_fantasia = None\n",
    "    dado_estabelecimento = None\n",
    "    dado_tipo_tributo = None\n",
    "\n",
    "    table_header = driver.find_elements(By.XPATH, '//input[@value=\"Dados Cadastrais\"]//ancestor::table[@class=\"titulo\"]//td')\n",
    "    dado_inscricao, dado_razao_social = [d.text.strip() for d in table_header][0].split(' - ')\n",
    "\n",
    "    table_body = driver.find_elements(By.XPATH, '//input[@value=\"Dados Cadastrais\"]//ancestor::table[@class=\"titulo\"]//following::table[1]//tr')\n",
    "    dado_endereco, dado_documento = ' '.join([d.text for d in table_body][0].split()[:-2]), [d.text for d in table_body][0].split()[-1]\n",
    "    dado_endereco += f' - {[d.text for d in table_body][1]}'\n",
    "    dado_nome_fantasia = [d.text for d in table_body][2].split(':')[-1]\n",
    "    dado_estabelecimento = [d.text for d in table_body][3].split(':')[-1]\n",
    "    dado_tipo_tributo = [d.text for d in table_body][4].split(':')[-1]\n",
    "\n",
    "    table_body = driver.find_elements(By.XPATH, '//input[@value=\"Dados Cadastrais\"]//ancestor::table[@class=\"titulo\"]//following::table[2]//tr')\n",
    "    socio_list = []\n",
    "    for i, row in enumerate(table_body):\n",
    "        dados = row.find_elements(By.TAG_NAME, 'td')\n",
    "        if i == 0:\n",
    "            continue\n",
    "        socio = [d.text for d in dados]\n",
    "        socio_list.append(socio)\n",
    "\n",
    "    list_dados = []\n",
    "    for socio in socio_list:\n",
    "        dados = [\n",
    "            dado_inscricao,\n",
    "            dado_razao_social,\n",
    "            dado_endereco,\n",
    "            dado_documento,\n",
    "            dado_nome_fantasia,\n",
    "            dado_estabelecimento,\n",
    "            dado_tipo_tributo,\n",
    "        ] + socio\n",
    "\n",
    "        list_dados(tuple(dados))\n",
    "    \n",
    "    return list_dados"
   ]
  }
 ],
 "metadata": {
  "kernelspec": {
   "display_name": "scripts-marcos-venv",
   "language": "python",
   "name": "python3"
  },
  "language_info": {
   "codemirror_mode": {
    "name": "ipython",
    "version": 3
   },
   "file_extension": ".py",
   "mimetype": "text/x-python",
   "name": "python",
   "nbconvert_exporter": "python",
   "pygments_lexer": "ipython3",
   "version": "3.8.10"
  }
 },
 "nbformat": 4,
 "nbformat_minor": 2
}
